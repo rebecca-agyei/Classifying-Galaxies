{
  "nbformat": 4,
  "nbformat_minor": 0,
  "metadata": {
    "colab": {
      "name": "train.ipynb",
      "provenance": [],
      "collapsed_sections": []
    },
    "kernelspec": {
      "name": "python3",
      "display_name": "Python 3"
    },
    "language_info": {
      "name": "python"
    }
  },
  "cells": [
    {
      "cell_type": "code",
      "metadata": {
        "id": "QRdE8yszxGxB"
      },
      "source": [
        "# Classifying Galaxies Using Convolutional Neural Networks\n",
        "\n",
        "import tensorflow as tf\n",
        "from tensorflow.keras.preprocessing.image import ImageDataGenerator\n",
        "from sklearn.model_selection import train_test_split\n",
        "from utils import load_galaxy_data\n",
        "import app\n",
        "\n",
        "\n",
        "input_data, labels = load_galaxy_data()\n",
        "print(input_data.shape) \n",
        "print(labels.shape)\n",
        "\n",
        "x_train, x_valid, y_train, y_valid = train_test_split(input_data, labels, test_size=0.20, stratify=labels, shuffle=True, random_state=222)\n",
        "\n",
        "# Processing the input\n",
        "data_generator = ImageDataGenerator(rescale=1./255)\n",
        "\n",
        "training_iterator = data_generator.flow(X_train, y_train,batch_size=5)\n",
        "validation_iterator = data_generator.flow(X_valid, y_valid, batch_size=5)\n",
        "\n",
        "# Building the model\n",
        "\n",
        "model = tf.keras.Sequential()\n",
        "model.add(tf.keras.Input(shape=(128, 128, 3)))\n",
        "model.add(tf.keras.layers.Conv2D(8, 3, strides=2, activation=\"relu\")) \n",
        "model.add(tf.keras.layers.MaxPooling2D(\n",
        "    pool_size=(2, 2), strides=(2,2)))\n",
        "model.add(tf.keras.layers.Conv2D(8, 3, strides=2, activation=\"relu\")) \n",
        "model.add(tf.keras.layers.MaxPooling2D(\n",
        "    pool_size=(2,2), strides=(2,2)))\n",
        "model.add(tf.keras.layers.Flatten())\n",
        "model.add(tf.keras.layers.Dense(16, activation=\"relu\"))\n",
        "model.add(tf.keras.layers.Dense(4, activation=\"softmax\"))\n",
        "\n",
        "model.summary()\n",
        "\n",
        "\n",
        "model.compile(\n",
        "    optimizer=tf.keras.optimizers.Adam(learning_rate=0.001),\n",
        "    loss=tf.keras.losses.CategoricalCrossentropy(),\n",
        "    metrics=[tf.keras.metrics.CategoricalAccuracy(),tf.keras.metrics.AUC()])\n",
        "\n",
        "model.fit(training_iterator, steps_per_epoch=len(x_train)/5, epochs=12, validation_data=validation_iterator, validation_steps=len(x_valid)/5)\n",
        "\n",
        "\n",
        "from visualize import visualize_activations\n",
        "\n",
        "visualize_activations(model,validation_iterator)\n"
      ],
      "execution_count": null,
      "outputs": []
    }
  ]
}